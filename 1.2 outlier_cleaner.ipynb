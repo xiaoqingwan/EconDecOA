{
 "cells": [
  {
   "cell_type": "code",
   "execution_count": 1,
   "metadata": {},
   "outputs": [],
   "source": [
    "# RAs should qualitative review the data and see what people are doing before we quantitatively remove outliers.\n",
    "\n",
    "# input data should be main task data, n-back, procspeed, and other behavioral variables\n",
    "\n",
    "# this notebook should be used to modify main_trial_level, before it's passed onto Subject_level_variable.ipynb\n",
    "\n",
    "# We want to get rid of:\n",
    "# 1. outliers that are out of range (e.g. probability is 900 instead of 90)\n",
    "# 2. outliers that are 3 SD away in the trial level\n",
    "# 3. outliers that are 3 SD away in the subject level (this will be done in 1.3 subject level data, not here)\n",
    "# 4. Reaction time under 300 msec is invalid and  not councious.\n",
    "# make sure that the raw data columns are kept unchanged.\n",
    "# cleaned data are in new columns. add a column for each cleaning criteria\n",
    "# a cell should be null if it contains an outlier."
   ]
  },
  {
   "cell_type": "code",
   "execution_count": 2,
   "metadata": {},
   "outputs": [],
   "source": [
    "import os\n",
    "from os import path\n",
    "from pathlib import Path\n",
    "import numpy as np\n",
    "import pandas as pd\n"
   ]
  },
  {
   "cell_type": "code",
   "execution_count": 3,
   "metadata": {},
   "outputs": [],
   "source": [
    "def exclude_3sd(row):\n",
    "    \"\"\"\n",
    "    Intended for use with DataFrame.apply()\n",
    "    \n",
    "    'subj_means' and 'subj_3sd' are not function args, therefore undefined locally. \n",
    "    They need to be defined globally, which we will do below.\n",
    "    \"\"\"\n",
    "    SubjNum,val = row['SubjNum'],row['val_estdiff_valid']\n",
    "    mean,SD = subj_means[SubjNum],subj_sd[SubjNum]      #bound is the SD\n",
    "    diff = abs(val - mean)\n",
    "    if diff < 3*SD:\n",
    "        return(val)\n",
    "    else: return(np.nan)\n",
    "    \n",
    "def out_of_range (row):\n",
    "    #main task absolute error has no data that is out of range. So this function is not used here but to serve as an example\n",
    "    SubjNum,val = row['SubjNum'],row['absolute_error']\n",
    "    if 0 <= val <= 1:\n",
    "        return(val)\n",
    "    else: return(np.nan)    \n",
    "    \n",
    "def RT_ (row):\n",
    "    SubjNum,val = row['SubjNum'],row['absolute_error']\n",
    "    if 0 <= val <= 1:\n",
    "        return(val)\n",
    "    else: return(np.nan)    "
   ]
  },
  {
   "cell_type": "code",
   "execution_count": 4,
   "metadata": {},
   "outputs": [
    {
     "data": {
      "text/html": [
       "<div>\n",
       "<style scoped>\n",
       "    .dataframe tbody tr th:only-of-type {\n",
       "        vertical-align: middle;\n",
       "    }\n",
       "\n",
       "    .dataframe tbody tr th {\n",
       "        vertical-align: top;\n",
       "    }\n",
       "\n",
       "    .dataframe thead th {\n",
       "        text-align: right;\n",
       "    }\n",
       "</style>\n",
       "<table border=\"1\" class=\"dataframe\">\n",
       "  <thead>\n",
       "    <tr style=\"text-align: right;\">\n",
       "      <th></th>\n",
       "      <th>SubjNum</th>\n",
       "      <th>AgeGroup</th>\n",
       "      <th>ExperimenterName</th>\n",
       "      <th>RunNum</th>\n",
       "      <th>Date</th>\n",
       "      <th>Time</th>\n",
       "      <th>TrialNum</th>\n",
       "      <th>TrialNumbydomdist</th>\n",
       "      <th>Domain</th>\n",
       "      <th>Magnitude</th>\n",
       "      <th>...</th>\n",
       "      <th>ConfidenceST</th>\n",
       "      <th>ConfidenceRT</th>\n",
       "      <th>StockNumber</th>\n",
       "      <th>BondNumber</th>\n",
       "      <th>GenderJudgment</th>\n",
       "      <th>TotalPayout</th>\n",
       "      <th>TrueProbGood</th>\n",
       "      <th>EstWithinRange?</th>\n",
       "      <th>val_estdiff_valid</th>\n",
       "      <th>absolute_error</th>\n",
       "    </tr>\n",
       "  </thead>\n",
       "  <tbody>\n",
       "    <tr>\n",
       "      <th>0</th>\n",
       "      <td>100</td>\n",
       "      <td>1</td>\n",
       "      <td>kf</td>\n",
       "      <td>1</td>\n",
       "      <td>10_12</td>\n",
       "      <td>11:31:01.963000</td>\n",
       "      <td>1</td>\n",
       "      <td>1</td>\n",
       "      <td>LOSS</td>\n",
       "      <td>low</td>\n",
       "      <td>...</td>\n",
       "      <td>2.141471e+06</td>\n",
       "      <td>3.022637</td>\n",
       "      <td>16</td>\n",
       "      <td>9</td>\n",
       "      <td>1</td>\n",
       "      <td>-6</td>\n",
       "      <td>0.300000</td>\n",
       "      <td>0</td>\n",
       "      <td>2.000001e-01</td>\n",
       "      <td>2.000001e-01</td>\n",
       "    </tr>\n",
       "    <tr>\n",
       "      <th>1</th>\n",
       "      <td>100</td>\n",
       "      <td>1</td>\n",
       "      <td>kf</td>\n",
       "      <td>1</td>\n",
       "      <td>10_12</td>\n",
       "      <td>11:31:01.963000</td>\n",
       "      <td>2</td>\n",
       "      <td>2</td>\n",
       "      <td>LOSS</td>\n",
       "      <td>low</td>\n",
       "      <td>...</td>\n",
       "      <td>2.141525e+06</td>\n",
       "      <td>3.695852</td>\n",
       "      <td>16</td>\n",
       "      <td>9</td>\n",
       "      <td>1</td>\n",
       "      <td>-12</td>\n",
       "      <td>0.155172</td>\n",
       "      <td>0</td>\n",
       "      <td>1.448277e-01</td>\n",
       "      <td>1.448277e-01</td>\n",
       "    </tr>\n",
       "    <tr>\n",
       "      <th>2</th>\n",
       "      <td>100</td>\n",
       "      <td>1</td>\n",
       "      <td>kf</td>\n",
       "      <td>1</td>\n",
       "      <td>10_12</td>\n",
       "      <td>11:31:01.963000</td>\n",
       "      <td>3</td>\n",
       "      <td>3</td>\n",
       "      <td>LOSS</td>\n",
       "      <td>low</td>\n",
       "      <td>...</td>\n",
       "      <td>2.141546e+06</td>\n",
       "      <td>3.121775</td>\n",
       "      <td>16</td>\n",
       "      <td>9</td>\n",
       "      <td>1</td>\n",
       "      <td>-18</td>\n",
       "      <td>0.300000</td>\n",
       "      <td>1</td>\n",
       "      <td>1.038193e-07</td>\n",
       "      <td>1.038193e-07</td>\n",
       "    </tr>\n",
       "    <tr>\n",
       "      <th>3</th>\n",
       "      <td>100</td>\n",
       "      <td>1</td>\n",
       "      <td>kf</td>\n",
       "      <td>1</td>\n",
       "      <td>10_12</td>\n",
       "      <td>11:31:01.963000</td>\n",
       "      <td>4</td>\n",
       "      <td>4</td>\n",
       "      <td>LOSS</td>\n",
       "      <td>low</td>\n",
       "      <td>...</td>\n",
       "      <td>2.141574e+06</td>\n",
       "      <td>3.406241</td>\n",
       "      <td>16</td>\n",
       "      <td>9</td>\n",
       "      <td>1</td>\n",
       "      <td>-24</td>\n",
       "      <td>0.500000</td>\n",
       "      <td>0</td>\n",
       "      <td>-1.000000e-01</td>\n",
       "      <td>1.000000e-01</td>\n",
       "    </tr>\n",
       "    <tr>\n",
       "      <th>4</th>\n",
       "      <td>100</td>\n",
       "      <td>1</td>\n",
       "      <td>kf</td>\n",
       "      <td>1</td>\n",
       "      <td>10_12</td>\n",
       "      <td>11:31:01.963000</td>\n",
       "      <td>5</td>\n",
       "      <td>5</td>\n",
       "      <td>LOSS</td>\n",
       "      <td>low</td>\n",
       "      <td>...</td>\n",
       "      <td>2.141602e+06</td>\n",
       "      <td>4.553061</td>\n",
       "      <td>16</td>\n",
       "      <td>9</td>\n",
       "      <td>1</td>\n",
       "      <td>-26</td>\n",
       "      <td>0.700000</td>\n",
       "      <td>0</td>\n",
       "      <td>-1.000001e-01</td>\n",
       "      <td>1.000001e-01</td>\n",
       "    </tr>\n",
       "  </tbody>\n",
       "</table>\n",
       "<p>5 rows × 36 columns</p>\n",
       "</div>"
      ],
      "text/plain": [
       "   SubjNum  AgeGroup ExperimenterName  RunNum   Date             Time  \\\n",
       "0      100         1               kf       1  10_12  11:31:01.963000   \n",
       "1      100         1               kf       1  10_12  11:31:01.963000   \n",
       "2      100         1               kf       1  10_12  11:31:01.963000   \n",
       "3      100         1               kf       1  10_12  11:31:01.963000   \n",
       "4      100         1               kf       1  10_12  11:31:01.963000   \n",
       "\n",
       "   TrialNum  TrialNumbydomdist Domain Magnitude      ...        ConfidenceST  \\\n",
       "0         1                  1   LOSS       low      ...        2.141471e+06   \n",
       "1         2                  2   LOSS       low      ...        2.141525e+06   \n",
       "2         3                  3   LOSS       low      ...        2.141546e+06   \n",
       "3         4                  4   LOSS       low      ...        2.141574e+06   \n",
       "4         5                  5   LOSS       low      ...        2.141602e+06   \n",
       "\n",
       "  ConfidenceRT StockNumber BondNumber GenderJudgment TotalPayout  \\\n",
       "0     3.022637          16          9              1          -6   \n",
       "1     3.695852          16          9              1         -12   \n",
       "2     3.121775          16          9              1         -18   \n",
       "3     3.406241          16          9              1         -24   \n",
       "4     4.553061          16          9              1         -26   \n",
       "\n",
       "   TrueProbGood  EstWithinRange?  val_estdiff_valid absolute_error  \n",
       "0      0.300000                0       2.000001e-01   2.000001e-01  \n",
       "1      0.155172                0       1.448277e-01   1.448277e-01  \n",
       "2      0.300000                1       1.038193e-07   1.038193e-07  \n",
       "3      0.500000                0      -1.000000e-01   1.000000e-01  \n",
       "4      0.700000                0      -1.000001e-01   1.000001e-01  \n",
       "\n",
       "[5 rows x 36 columns]"
      ]
     },
     "execution_count": 4,
     "metadata": {},
     "output_type": "execute_result"
    }
   ],
   "source": [
    "location = path.join('..','derivatives','trialwise','main_trial_level.csv')\n",
    "df=pd.read_csv(location) #opening the excel file - trial level data\n",
    "df.head()"
   ]
  },
  {
   "cell_type": "code",
   "execution_count": 5,
   "metadata": {},
   "outputs": [
    {
     "data": {
      "text/plain": [
       "0.17717746852107116"
      ]
     },
     "execution_count": 5,
     "metadata": {},
     "output_type": "execute_result"
    }
   ],
   "source": [
    "df['absolute_error'].std()"
   ]
  },
  {
   "cell_type": "code",
   "execution_count": 6,
   "metadata": {},
   "outputs": [
    {
     "data": {
      "text/plain": [
       "0.1929211104725841"
      ]
     },
     "execution_count": 6,
     "metadata": {},
     "output_type": "execute_result"
    }
   ],
   "source": [
    "df['absolute_error'].mean()"
   ]
  },
  {
   "cell_type": "code",
   "execution_count": 7,
   "metadata": {
    "scrolled": true
   },
   "outputs": [
    {
     "data": {
      "text/plain": [
       "SubjNum\n",
       "100    0.046724\n",
       "101   -0.014427\n",
       "102    0.014467\n",
       "103    0.036173\n",
       "104    0.070082\n",
       "Name: val_estdiff_valid, dtype: float64"
      ]
     },
     "execution_count": 7,
     "metadata": {},
     "output_type": "execute_result"
    }
   ],
   "source": [
    "subj_means = df.groupby('SubjNum').mean()['val_estdiff_valid']\n",
    "subj_means.head()"
   ]
  },
  {
   "cell_type": "code",
   "execution_count": 8,
   "metadata": {},
   "outputs": [],
   "source": [
    "subj_sd = df.groupby('SubjNum').std()['val_estdiff_valid']"
   ]
  },
  {
   "cell_type": "code",
   "execution_count": 9,
   "metadata": {},
   "outputs": [],
   "source": [
    "#out of range\n",
    "#axis=1 means that you want the data to be processed row by row. axies=1 means column by column\n",
    "#3 SD away in the trial level\n",
    "df['val_error_3sd_removed'] = df.apply(exclude_3sd, axis=1)\n",
    "df['abs_error_3sd_removed'] = df['val_error_3sd_removed'].abs()"
   ]
  },
  {
   "cell_type": "code",
   "execution_count": 10,
   "metadata": {},
   "outputs": [],
   "source": [
    "derivs_dir = path.join('..','derivatives')\n",
    "output_path = path.join(derivs_dir,'trialwise','main_trial_level_cleaned.csv')\n",
    "df.to_csv(output_path)"
   ]
  }
 ],
 "metadata": {
  "kernelspec": {
   "display_name": "Python 3",
   "language": "python",
   "name": "python3"
  },
  "language_info": {
   "codemirror_mode": {
    "name": "ipython",
    "version": 3
   },
   "file_extension": ".py",
   "mimetype": "text/x-python",
   "name": "python",
   "nbconvert_exporter": "python",
   "pygments_lexer": "ipython3",
   "version": "3.7.1"
  }
 },
 "nbformat": 4,
 "nbformat_minor": 2
}
