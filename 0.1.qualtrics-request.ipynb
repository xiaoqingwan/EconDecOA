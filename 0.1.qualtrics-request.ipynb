{
 "cells": [
  {
   "cell_type": "raw",
   "metadata": {},
   "source": [
    "import config, os, io, requests\n",
    "import zipfile\n",
    "import pandas as pd"
   ]
  },
  {
   "cell_type": "markdown",
   "metadata": {},
   "source": [
    "# Configuration import\n",
    "Assumes user has `config.py` local module containing a generated `api_token` and list of survey IDs in `survey_list`.\n",
    "\n",
    "List as many or as few qualtrics survey IDs as needed in `config.survey_list`. Running the request cell later may produce errors if you're exporting multiple surveys due to time restrictions on the API request. The code tries to deal with this in a relatively haphazard way by just waiting a couple seconds between requests, which works *almost* all the time. If you **do** run into errors along that line, re-running the cell will usually fix it... eventually."
   ]
  },
  {
   "cell_type": "code",
   "execution_count": 1,
   "metadata": {},
   "outputs": [],
   "source": [
    "import config\n",
    "from os.path import join\n",
    "from requests import request\n",
    "from time import sleep\n",
    "import zipfile, io, os, pandas as pd"
   ]
  },
  {
   "cell_type": "markdown",
   "metadata": {},
   "source": [
    "# Setting user & survey parameters"
   ]
  },
  {
   "cell_type": "code",
   "execution_count": 2,
   "metadata": {},
   "outputs": [],
   "source": [
    "debug = True"
   ]
  },
  {
   "cell_type": "code",
   "execution_count": 3,
   "metadata": {},
   "outputs": [],
   "source": [
    "apiToken = config.api_token\n",
    "surveyIdList = config.survey_list\n",
    "fileFormat = \"csv\"\n",
    "dataCenter = 'ca1'\n",
    "output_dir = os.path.join('..','sourcedata','qualtrics')"
   ]
  },
  {
   "cell_type": "markdown",
   "metadata": {},
   "source": [
    "# Setting static parameters"
   ]
  },
  {
   "cell_type": "code",
   "execution_count": 4,
   "metadata": {},
   "outputs": [],
   "source": [
    "requestCheckProgress = 0\n",
    "progressStatus = \"in progress\"\n",
    "baseUrl = \"https://{0}.qualtrics.com/API/v3/responseexports/\".format(dataCenter)\n",
    "headers = {\n",
    "    \"content-type\": \"application/json\",\n",
    "    \"x-api-token\": apiToken,\n",
    "    }"
   ]
  },
  {
   "cell_type": "markdown",
   "metadata": {},
   "source": [
    "# Executing Request\n",
    "If executing in Jupyter, this is the cell that will throw an error for each survey.\n",
    "\n",
    "Simply re-execute until it stops throwing errors..."
   ]
  },
  {
   "cell_type": "code",
   "execution_count": 5,
   "metadata": {},
   "outputs": [
    {
     "name": "stdout",
     "output_type": "stream",
     "text": [
      "survey 1 of 2\n",
      "surveyId SV_78nj8idsIv7WxPn\n",
      "downloadRequestUrl https://ca1.qualtrics.com/API/v3/responseexports/\n",
      "downloadRequestPayload {\"format\":\"csv\",\"surveyId\":\"SV_78nj8idsIv7WxPn\"}\n",
      "downloadRequestResponse <Response [200]>\n",
      "progressId ES_o351488nlicpss4hi9hk3j6qes\n",
      "Download is 100.0% complete\n",
      "Download is 100.0% complete\n",
      "requestCheckUrl https://ca1.qualtrics.com/API/v3/responseexports/ES_o351488nlicpss4hi9hk3j6qes\n",
      "requestCheckResponse <Response [200]>\n",
      "requestCheckProgress 100.0\n",
      "requestDownloadUrl https://ca1.qualtrics.com/API/v3/responseexports/ES_o351488nlicpss4hi9hk3j6qes/file\n",
      "requestDownload <Response [200]>\n",
      "survey 2 of 2\n",
      "surveyId SV_89a0o7kZT3uHoNf\n",
      "downloadRequestUrl https://ca1.qualtrics.com/API/v3/responseexports/\n",
      "downloadRequestPayload {\"format\":\"csv\",\"surveyId\":\"SV_89a0o7kZT3uHoNf\"}\n",
      "downloadRequestResponse <Response [200]>\n",
      "progressId ES_49956mal3fd11mkqrea2mpcral\n",
      "Download is 100.0% complete\n",
      "requestCheckUrl https://ca1.qualtrics.com/API/v3/responseexports/ES_o351488nlicpss4hi9hk3j6qes\n",
      "requestCheckResponse <Response [200]>\n",
      "requestCheckProgress 100.0\n",
      "requestDownloadUrl https://ca1.qualtrics.com/API/v3/responseexports/ES_49956mal3fd11mkqrea2mpcral/file\n",
      "requestDownload <Response [200]>\n",
      "Done!\n"
     ]
    }
   ],
   "source": [
    "i=1\n",
    "for surveyId in surveyIdList:\n",
    "    print('survey {} of {}'.format(i,len(surveyIdList)));i+=1\n",
    "    print('surveyId',surveyId)\n",
    "    \n",
    "    # Step 1: Creating Data Export\n",
    "    downloadRequestUrl = baseUrl\n",
    "    downloadRequestPayload = '{\"format\":\"' + fileFormat + '\",\"surveyId\":\"' + surveyId + '\"}'\n",
    "    downloadRequestResponse = request(\"POST\", downloadRequestUrl, data=downloadRequestPayload, headers=headers)\n",
    "    progressId = downloadRequestResponse.json()[\"result\"][\"id\"]\n",
    "    \n",
    "    if debug == True:\n",
    "        print('downloadRequestUrl',downloadRequestUrl)\n",
    "        print('downloadRequestPayload',downloadRequestPayload)\n",
    "        print('downloadRequestResponse',downloadRequestResponse)\n",
    "        print('progressId',progressId)\n",
    "    \n",
    "    # Step 2: Checking on Data Export Progress and waiting until export is ready\n",
    "    while requestCheckProgress < 99 and progressStatus is not \"complete\":\n",
    "        requestCheckUrl = baseUrl + progressId\n",
    "        requestCheckResponse = request(\"GET\", requestCheckUrl, headers=headers)\n",
    "        requestCheckProgress = requestCheckResponse.json()[\"result\"][\"percentComplete\"]\n",
    "        print(\"Download is \" + str(requestCheckProgress) + \"% complete\")\n",
    "    print(\"Download is \" + str(requestCheckProgress) + \"% complete\")\n",
    "    \n",
    "    if debug == True:\n",
    "        print('requestCheckUrl',requestCheckUrl)\n",
    "        print('requestCheckResponse',requestCheckResponse)\n",
    "        print('requestCheckProgress',requestCheckProgress)\n",
    "        \n",
    "    # Step 3: Downloading file\n",
    "    requestDownloadUrl = baseUrl + progressId + '/file'\n",
    "    sleep(2)\n",
    "    requestDownload = request(\"GET\", requestDownloadUrl, headers=headers, stream=True)\n",
    "        \n",
    "    if debug == True:\n",
    "        print('requestDownloadUrl',requestDownloadUrl)\n",
    "        print('requestDownload',requestDownload)\n",
    "    \n",
    "    # Step 4: Unzipping the file\n",
    "    zipfile.ZipFile(io.BytesIO(requestDownload.content)).extractall(output_dir)\n",
    "print('Done!')"
   ]
  },
  {
   "cell_type": "markdown",
   "metadata": {},
   "source": [
    "# Read outputs, clean and re-write"
   ]
  },
  {
   "cell_type": "code",
   "execution_count": 6,
   "metadata": {},
   "outputs": [],
   "source": [
    "columns_to_drop=[\n",
    "    'StartDate','EndDate','Status','IPAddress','Finished',\n",
    "    'RecipientLastName','RecipientFirstName','RecipientEmail',\n",
    "    'LocationLatitude','LocationLongitude','LocationAccuracy',\n",
    "    'ResponseID','ResponseSet','ExternalDataReference',\n",
    "    'Score-weightedAvg','Score-weightedStdDev'\n",
    "]"
   ]
  },
  {
   "cell_type": "code",
   "execution_count": 7,
   "metadata": {},
   "outputs": [
    {
     "name": "stdout",
     "output_type": "stream",
     "text": [
      "backing up ..\\sourcedata\\qualtrics\\EconDecOA Survey-01.csv\n",
      "done\n",
      "cleaning ..\\sourcedata\\qualtrics\\EconDecOA Survey-01.csv\n",
      "done\n",
      "backing up ..\\sourcedata\\qualtrics\\EconDecOA Survey-02.csv\n",
      "done\n",
      "cleaning ..\\sourcedata\\qualtrics\\EconDecOA Survey-02.csv\n",
      "done\n"
     ]
    }
   ],
   "source": [
    "for f in os.listdir(output_dir):\n",
    "    fpath = os.path.join(output_dir,f)\n",
    "    if os.path.isfile(fpath):\n",
    "        print('backing up {}'.format(fpath))\n",
    "        df = pd.read_csv(fpath)\n",
    "        df.to_csv(os.path.join(output_dir,'raw',os.path.basename(fpath)),index=False)\n",
    "        print('done')\n",
    "        print('cleaning {}'.format(fpath))\n",
    "        df = df[df['Finished'] == '1']\n",
    "        df = df[[\n",
    "            c for c in df.columns\n",
    "            if not c.startswith('DO-')\n",
    "            and not c.startswith('RO-')\n",
    "            and not c in columns_to_drop\n",
    "        ]]\n",
    "        df.to_csv(fpath,index=False)\n",
    "        print('done')"
   ]
  }
 ],
 "metadata": {
  "kernelspec": {
   "display_name": "Python 3",
   "language": "python",
   "name": "python3"
  },
  "language_info": {
   "codemirror_mode": {
    "name": "ipython",
    "version": 3
   },
   "file_extension": ".py",
   "mimetype": "text/x-python",
   "name": "python",
   "nbconvert_exporter": "python",
   "pygments_lexer": "ipython3",
   "version": "3.7.1"
  }
 },
 "nbformat": 4,
 "nbformat_minor": 2
}
