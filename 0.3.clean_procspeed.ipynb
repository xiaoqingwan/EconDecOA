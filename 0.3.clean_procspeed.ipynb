{
 "cells": [
  {
   "cell_type": "code",
   "execution_count": 1,
   "metadata": {},
   "outputs": [],
   "source": [
    "import os\n",
    "import pandas as pd\n",
    "import numpy as np\n",
    "from convert_eprime import convert as ep"
   ]
  },
  {
   "cell_type": "code",
   "execution_count": 2,
   "metadata": {},
   "outputs": [],
   "source": [
    "source_dir = os.path.join('..','sourcedata')\n",
    "derivs_dir = os.path.join('..','derivatives')"
   ]
  },
  {
   "cell_type": "markdown",
   "metadata": {},
   "source": [
    "#### Read all the subject data\n",
    "\n",
    "Reading only data for the full sample (400-series). Executing  EPrime text-to-csv conversion. Setting up for subject-level analysis."
   ]
  },
  {
   "cell_type": "code",
   "execution_count": 3,
   "metadata": {
    "scrolled": true
   },
   "outputs": [
    {
     "name": "stdout",
     "output_type": "stream",
     "text": [
      "..\\sourcedata\\sub-400\\sub-500_task-procspeed_run-1_beh.csv exists\n",
      "Output file successfully created- ..\\sourcedata\\sub-400\\sub-500_task-procspeed_run-1_beh.csv\n",
      "..\\sourcedata\\sub-401\\sub-401_task-procspeed_run-1_beh.csv exists\n",
      "Output file successfully created- ..\\sourcedata\\sub-401\\sub-401_task-procspeed_run-1_beh.csv\n",
      "..\\sourcedata\\sub-402\\sub-402_task-procspeed_run-1_beh.csv exists\n",
      "Output file successfully created- ..\\sourcedata\\sub-402\\sub-402_task-procspeed_run-1_beh.csv\n",
      "..\\sourcedata\\sub-403\\sub-403_task-procspeed_run-1_beh.csv exists\n",
      "Output file successfully created- ..\\sourcedata\\sub-403\\sub-403_task-procspeed_run-1_beh.csv\n",
      "..\\sourcedata\\sub-404\\sub-404_task-procspeed_run-1_beh.csv exists\n",
      "Output file successfully created- ..\\sourcedata\\sub-404\\sub-404_task-procspeed_run-1_beh.csv\n",
      "..\\sourcedata\\sub-405\\sub-405_task-procspeed_run-1_beh.csv exists\n",
      "Output file successfully created- ..\\sourcedata\\sub-405\\sub-405_task-procspeed_run-1_beh.csv\n",
      "..\\sourcedata\\sub-406\\sub-406_task-procspeed_run-1_beh.csv exists\n",
      "Output file successfully created- ..\\sourcedata\\sub-406\\sub-406_task-procspeed_run-1_beh.csv\n",
      "..\\sourcedata\\sub-407\\sub-407_task-procspeed_run-1_beh.csv exists\n",
      "Output file successfully created- ..\\sourcedata\\sub-407\\sub-407_task-procspeed_run-1_beh.csv\n",
      "..\\sourcedata\\sub-408\\sub-408_task-procspeed_run-1_beh.csv exists\n",
      "Output file successfully created- ..\\sourcedata\\sub-408\\sub-408_task-procspeed_run-1_beh.csv\n",
      "..\\sourcedata\\sub-409\\sub-409_task-procspeed_run-1_beh.csv exists\n",
      "Output file successfully created- ..\\sourcedata\\sub-409\\sub-409_task-procspeed_run-1_beh.csv\n",
      "..\\sourcedata\\sub-410\\sub-410_task-procspeed_run-1_beh.csv exists\n",
      "Output file successfully created- ..\\sourcedata\\sub-410\\sub-410_task-procspeed_run-1_beh.csv\n",
      "..\\sourcedata\\sub-411\\sub-411_task-procspeed_run-1_beh.csv exists\n",
      "Output file successfully created- ..\\sourcedata\\sub-411\\sub-411_task-procspeed_run-1_beh.csv\n",
      "..\\sourcedata\\sub-412\\sub-412_task-procspeed_run-1_beh.csv exists\n",
      "Output file successfully created- ..\\sourcedata\\sub-412\\sub-412_task-procspeed_run-1_beh.csv\n",
      "..\\sourcedata\\sub-413\\sub-413_task-procspeed_run-1_beh.csv exists\n",
      "Output file successfully created- ..\\sourcedata\\sub-413\\sub-413_task-procspeed_run-1_beh.csv\n",
      "..\\sourcedata\\sub-414\\sub-414_task-procspeed_run-1_beh.csv exists\n",
      "Output file successfully created- ..\\sourcedata\\sub-414\\sub-414_task-procspeed_run-1_beh.csv\n",
      "..\\sourcedata\\sub-415\\sub-415_task-procspeed_run-1_beh.csv exists\n",
      "Output file successfully created- ..\\sourcedata\\sub-415\\sub-415_task-procspeed_run-1_beh.csv\n",
      "..\\sourcedata\\sub-416\\sub-416_task-procspeed_run-1_beh.csv exists\n",
      "Output file successfully created- ..\\sourcedata\\sub-416\\sub-416_task-procspeed_run-1_beh.csv\n",
      "..\\sourcedata\\sub-417\\sub-417_task-procspeed_run-1_beh.csv exists\n",
      "Output file successfully created- ..\\sourcedata\\sub-417\\sub-417_task-procspeed_run-1_beh.csv\n",
      "..\\sourcedata\\sub-418\\sub-418_task-procspeed_run-1_beh.csv exists\n",
      "Warning: LogFrame Starts and Ends do not match up. Including header metadata just in case.\n",
      "Output file successfully created- ..\\sourcedata\\sub-418\\sub-418_task-procspeed_run-1_beh.csv\n",
      "..\\sourcedata\\sub-419\\sub-419_task-procspeed_run-1_beh.csv exists\n",
      "Warning: LogFrame Starts and Ends do not match up. Including header metadata just in case.\n",
      "Output file successfully created- ..\\sourcedata\\sub-419\\sub-419_task-procspeed_run-1_beh.csv\n",
      "..\\sourcedata\\sub-420\\sub-420_task-procspeed_run-1_beh.csv exists\n",
      "Output file successfully created- ..\\sourcedata\\sub-420\\sub-420_task-procspeed_run-1_beh.csv\n",
      "..\\sourcedata\\sub-421\\sub-421_task-procspeed_run-1_beh.csv exists\n",
      "Warning: LogFrame Starts and Ends do not match up. Including header metadata just in case.\n",
      "Output file successfully created- ..\\sourcedata\\sub-421\\sub-421_task-procspeed_run-1_beh.csv\n",
      "..\\sourcedata\\sub-422\\sub-422_task-procspeed_run-1_beh.csv exists\n",
      "Output file successfully created- ..\\sourcedata\\sub-422\\sub-422_task-procspeed_run-1_beh.csv\n",
      "..\\sourcedata\\sub-423\\sub-423_task-procspeed_run-1_beh.csv exists\n",
      "Output file successfully created- ..\\sourcedata\\sub-423\\sub-423_task-procspeed_run-1_beh.csv\n",
      "..\\sourcedata\\sub-424\\sub-424_task-procspeed_run-1_beh.csv exists\n",
      "Output file successfully created- ..\\sourcedata\\sub-424\\sub-424_task-procspeed_run-1_beh.csv\n",
      "..\\sourcedata\\sub-425\\sub-425_task-procspeed_run-1_beh.csv exists\n",
      "Warning: LogFrame Starts and Ends do not match up. Including header metadata just in case.\n",
      "Output file successfully created- ..\\sourcedata\\sub-425\\sub-425_task-procspeed_run-1_beh.csv\n",
      "..\\sourcedata\\sub-426\\sub-426_task-procspeed_run-1_beh.csv exists\n",
      "Output file successfully created- ..\\sourcedata\\sub-426\\sub-426_task-procspeed_run-1_beh.csv\n",
      "..\\sourcedata\\sub-427\\sub-427_task-procspeed_run-1_beh.csv exists\n",
      "Output file successfully created- ..\\sourcedata\\sub-427\\sub-427_task-procspeed_run-1_beh.csv\n",
      "..\\sourcedata\\sub-428\\sub-428_task-procspeed_run-1_beh.csv exists\n",
      "Output file successfully created- ..\\sourcedata\\sub-428\\sub-428_task-procspeed_run-1_beh.csv\n",
      "..\\sourcedata\\sub-429\\sub-429_task-procspeed_run-1_beh.csv exists\n",
      "Output file successfully created- ..\\sourcedata\\sub-429\\sub-429_task-procspeed_run-1_beh.csv\n",
      "..\\sourcedata\\sub-430\\sub-430_task-procspeed_run-1_beh.csv exists\n",
      "Output file successfully created- ..\\sourcedata\\sub-430\\sub-430_task-procspeed_run-1_beh.csv\n",
      "..\\sourcedata\\sub-431\\sub-431_task-procspeed_run-1_beh.csv exists\n",
      "Output file successfully created- ..\\sourcedata\\sub-431\\sub-431_task-procspeed_run-1_beh.csv\n",
      "..\\sourcedata\\sub-432\\sub-432_task-procspeed_run-1_beh.csv exists\n",
      "Output file successfully created- ..\\sourcedata\\sub-432\\sub-432_task-procspeed_run-1_beh.csv\n",
      "..\\sourcedata\\sub-433\\sub-433_task-procspeed_run-1_beh.csv exists\n",
      "Output file successfully created- ..\\sourcedata\\sub-433\\sub-433_task-procspeed_run-1_beh.csv\n",
      "..\\sourcedata\\sub-434\\sub-434_task-procspeed_run-1_beh.csv exists\n",
      "Output file successfully created- ..\\sourcedata\\sub-434\\sub-434_task-procspeed_run-1_beh.csv\n",
      "..\\sourcedata\\sub-435\\sub-435_task-procspeed_run-1_beh.csv exists\n",
      "Output file successfully created- ..\\sourcedata\\sub-435\\sub-435_task-procspeed_run-1_beh.csv\n",
      "..\\sourcedata\\sub-436\\sub-436_task-procspeed_run-1_beh.csv exists\n",
      "Output file successfully created- ..\\sourcedata\\sub-436\\sub-436_task-procspeed_run-1_beh.csv\n",
      "..\\sourcedata\\sub-437\\sub-437_task-procspeed_run-1_beh.csv exists\n",
      "Output file successfully created- ..\\sourcedata\\sub-437\\sub-437_task-procspeed_run-1_beh.csv\n",
      "..\\sourcedata\\sub-438\\sub-438_task-procspeed_run-1_beh.csv exists\n",
      "Output file successfully created- ..\\sourcedata\\sub-438\\sub-438_task-procspeed_run-1_beh.csv\n",
      "..\\sourcedata\\sub-439\\sub-439_task-procspeed_run-1_beh.csv exists\n",
      "Output file successfully created- ..\\sourcedata\\sub-439\\sub-439_task-procspeed_run-1_beh.csv\n",
      "..\\sourcedata\\sub-440\\sub-440_task-procspeed_run-1_beh.csv exists\n",
      "Output file successfully created- ..\\sourcedata\\sub-440\\sub-440_task-procspeed_run-1_beh.csv\n",
      "..\\sourcedata\\sub-441\\sub-441_task-procspeed_run-1_beh.csv exists\n",
      "Output file successfully created- ..\\sourcedata\\sub-441\\sub-441_task-procspeed_run-1_beh.csv\n",
      "..\\sourcedata\\sub-443\\sub-443_task-procspeed_run-1_beh.csv exists\n",
      "Output file successfully created- ..\\sourcedata\\sub-443\\sub-443_task-procspeed_run-1_beh.csv\n",
      "..\\sourcedata\\sub-444\\sub-444_task-procspeed_run-1_beh.csv exists\n",
      "Warning: LogFrame Starts and Ends do not match up. Including header metadata just in case.\n",
      "Output file successfully created- ..\\sourcedata\\sub-444\\sub-444_task-procspeed_run-1_beh.csv\n",
      "..\\sourcedata\\sub-445\\sub-445_task-procspeed_run-1_beh.csv exists\n",
      "Output file successfully created- ..\\sourcedata\\sub-445\\sub-445_task-procspeed_run-1_beh.csv\n",
      "..\\sourcedata\\sub-446\\sub-446_task-procspeed_run-1_beh.csv exists\n",
      "Output file successfully created- ..\\sourcedata\\sub-446\\sub-446_task-procspeed_run-1_beh.csv\n",
      "..\\sourcedata\\sub-447\\sub-447_task-procspeed_run-1_beh.csv exists\n",
      "Output file successfully created- ..\\sourcedata\\sub-447\\sub-447_task-procspeed_run-1_beh.csv\n",
      "..\\sourcedata\\sub-448\\sub-448_task-procspeed_run-1_beh.csv exists\n",
      "Warning: LogFrame Starts and Ends do not match up. Including header metadata just in case.\n",
      "Output file successfully created- ..\\sourcedata\\sub-448\\sub-448_task-procspeed_run-1_beh.csv\n",
      "..\\sourcedata\\sub-449\\sub-449_task-procspeed_run-1_beh.csv exists\n",
      "Output file successfully created- ..\\sourcedata\\sub-449\\sub-449_task-procspeed_run-1_beh.csv\n",
      "..\\sourcedata\\sub-450\\sub-450_task-procspeed_run-1_beh.csv exists\n"
     ]
    },
    {
     "name": "stdout",
     "output_type": "stream",
     "text": [
      "Output file successfully created- ..\\sourcedata\\sub-450\\sub-450_task-procspeed_run-1_beh.csv\n",
      "..\\sourcedata\\sub-451\\sub-451_task-procspeed_run-1_beh.csv exists\n",
      "Warning: LogFrame Starts and Ends do not match up. Including header metadata just in case.\n",
      "Output file successfully created- ..\\sourcedata\\sub-451\\sub-451_task-procspeed_run-1_beh.csv\n",
      "..\\sourcedata\\sub-452\\sub-452_task-procspeed_run-1_beh.csv exists\n",
      "Output file successfully created- ..\\sourcedata\\sub-452\\sub-452_task-procspeed_run-1_beh.csv\n",
      "..\\sourcedata\\sub-453\\sub-453_task-procspeed_run-1_beh.csv exists\n",
      "Output file successfully created- ..\\sourcedata\\sub-453\\sub-453_task-procspeed_run-1_beh.csv\n",
      "..\\sourcedata\\sub-454\\sub-454_task-procspeed_run-1_beh.csv exists\n",
      "Output file successfully created- ..\\sourcedata\\sub-454\\sub-454_task-procspeed_run-1_beh.csv\n",
      "..\\sourcedata\\sub-456\\sub-456_task-procspeed_run-1_beh.csv exists\n",
      "Warning: LogFrame Starts and Ends do not match up. Including header metadata just in case.\n",
      "Output file successfully created- ..\\sourcedata\\sub-456\\sub-456_task-procspeed_run-1_beh.csv\n",
      "..\\sourcedata\\sub-457\\sub-457_task-procspeed_run-1_beh.csv exists\n",
      "Warning: LogFrame Starts and Ends do not match up. Including header metadata just in case.\n",
      "Output file successfully created- ..\\sourcedata\\sub-457\\sub-457_task-procspeed_run-1_beh.csv\n",
      "..\\sourcedata\\sub-458\\sub-458_task-procspeed_run- 1_beh.csv exists\n",
      "Output file successfully created- ..\\sourcedata\\sub-458\\sub-458_task-procspeed_run- 1_beh.csv\n",
      "..\\sourcedata\\sub-459\\sub-459_task-procspeed_run-1_beh.csv exists\n",
      "Output file successfully created- ..\\sourcedata\\sub-459\\sub-459_task-procspeed_run-1_beh.csv\n",
      "..\\sourcedata\\sub-460\\sub-460_task-procspeed_run-1_beh.csv exists\n",
      "Output file successfully created- ..\\sourcedata\\sub-460\\sub-460_task-procspeed_run-1_beh.csv\n",
      "..\\sourcedata\\sub-461\\sub-461_task-procspeed_run-1_beh.csv exists\n",
      "Output file successfully created- ..\\sourcedata\\sub-461\\sub-461_task-procspeed_run-1_beh.csv\n",
      "..\\sourcedata\\sub-462\\sub-462_task-procspeed_run-1_beh.csv exists\n",
      "Output file successfully created- ..\\sourcedata\\sub-462\\sub-462_task-procspeed_run-1_beh.csv\n",
      "..\\sourcedata\\sub-463\\sub-463_task-procspeed_run-1_beh.csv exists\n",
      "Output file successfully created- ..\\sourcedata\\sub-463\\sub-463_task-procspeed_run-1_beh.csv\n",
      "..\\sourcedata\\sub-464\\sub-464_task-procspeed_run-1_beh.csv exists\n",
      "Output file successfully created- ..\\sourcedata\\sub-464\\sub-464_task-procspeed_run-1_beh.csv\n",
      "..\\sourcedata\\sub-465\\sub-465_task-procspeed_run-1_beh.csv exists\n",
      "Output file successfully created- ..\\sourcedata\\sub-465\\sub-465_task-procspeed_run-1_beh.csv\n",
      "..\\sourcedata\\sub-467\\sub-467_task-procspeed_run-1_beh.csv exists\n",
      "Output file successfully created- ..\\sourcedata\\sub-467\\sub-467_task-procspeed_run-1_beh.csv\n",
      "..\\sourcedata\\sub-468\\sub-468_task-procspeed_run-1_beh.csv exists\n",
      "Output file successfully created- ..\\sourcedata\\sub-468\\sub-468_task-procspeed_run-1_beh.csv\n",
      "..\\sourcedata\\sub-469\\sub-469_task-procspeed_run-1_beh.csv exists\n",
      "Output file successfully created- ..\\sourcedata\\sub-469\\sub-469_task-procspeed_run-1_beh.csv\n",
      "..\\sourcedata\\sub-470\\sub-470_task-procspeed_run-1_beh.csv exists\n",
      "Warning: LogFrame Starts and Ends do not match up. Including header metadata just in case.\n",
      "Output file successfully created- ..\\sourcedata\\sub-470\\sub-470_task-procspeed_run-1_beh.csv\n",
      "..\\sourcedata\\sub-471\\sub-471_task-procspeed_run-1_beh.csv exists\n",
      "Output file successfully created- ..\\sourcedata\\sub-471\\sub-471_task-procspeed_run-1_beh.csv\n",
      "..\\sourcedata\\sub-472\\sub-472_task-procspeed_run-1_beh.csv exists\n",
      "Output file successfully created- ..\\sourcedata\\sub-472\\sub-472_task-procspeed_run-1_beh.csv\n",
      "..\\sourcedata\\sub-473\\sub-473_task-procspeed_run-1_beh.csv exists\n",
      "Warning: LogFrame Starts and Ends do not match up. Including header metadata just in case.\n",
      "Output file successfully created- ..\\sourcedata\\sub-473\\sub-473_task-procspeed_run-1_beh.csv\n",
      "..\\sourcedata\\sub-474\\sub-474_task-procspeed_run-1_beh.csv exists\n",
      "Output file successfully created- ..\\sourcedata\\sub-474\\sub-474_task-procspeed_run-1_beh.csv\n",
      "..\\sourcedata\\sub-475\\sub-475_task-procspeed_run-1_beh.csv exists\n",
      "Output file successfully created- ..\\sourcedata\\sub-475\\sub-475_task-procspeed_run-1_beh.csv\n",
      "..\\sourcedata\\sub-476\\sub-476_task-procspeed_run-1_beh.csv exists\n",
      "Warning: LogFrame Starts and Ends do not match up. Including header metadata just in case.\n",
      "Output file successfully created- ..\\sourcedata\\sub-476\\sub-476_task-procspeed_run-1_beh.csv\n",
      "..\\sourcedata\\sub-477\\sub-477_task-procspeed_run-1_beh.csv exists\n",
      "Output file successfully created- ..\\sourcedata\\sub-477\\sub-477_task-procspeed_run-1_beh.csv\n",
      "..\\sourcedata\\sub-478\\sub-478_task-procspeed_run-1_beh.csv exists\n",
      "Output file successfully created- ..\\sourcedata\\sub-478\\sub-478_task-procspeed_run-1_beh.csv\n",
      "..\\sourcedata\\sub-479\\sub-479_task-procspeed_run-1_beh.csv exists\n",
      "Output file successfully created- ..\\sourcedata\\sub-479\\sub-479_task-procspeed_run-1_beh.csv\n",
      "..\\sourcedata\\sub-480\\sub-480_task-procspeed_run-1_beh.csv exists\n",
      "Output file successfully created- ..\\sourcedata\\sub-480\\sub-480_task-procspeed_run-1_beh.csv\n",
      "..\\sourcedata\\sub-482\\sub-482_task-procspeed_run-1_beh.csv exists\n",
      "Output file successfully created- ..\\sourcedata\\sub-482\\sub-482_task-procspeed_run-1_beh.csv\n",
      "..\\sourcedata\\sub-483\\sub-483_task-procspeed_run-1_beh.csv exists\n",
      "Output file successfully created- ..\\sourcedata\\sub-483\\sub-483_task-procspeed_run-1_beh.csv\n",
      "..\\sourcedata\\sub-484\\sub-484_task-procspeed_run-1_beh.csv exists\n",
      "Output file successfully created- ..\\sourcedata\\sub-484\\sub-484_task-procspeed_run-1_beh.csv\n",
      "..\\sourcedata\\sub-485\\sub-485_task-procspeed_run-1_beh.csv exists\n",
      "Output file successfully created- ..\\sourcedata\\sub-485\\sub-485_task-procspeed_run-1_beh.csv\n",
      "..\\sourcedata\\sub-486\\sub-486_task-procspeed_run-1_beh.csv exists\n",
      "Output file successfully created- ..\\sourcedata\\sub-486\\sub-486_task-procspeed_run-1_beh.csv\n",
      "..\\sourcedata\\sub-487\\sub-487_task-procspeed_run-1_beh.csv exists\n",
      "Output file successfully created- ..\\sourcedata\\sub-487\\sub-487_task-procspeed_run-1_beh.csv\n",
      "..\\sourcedata\\sub-488\\sub-488_task-procspeed_run-1_beh.csv exists\n",
      "Output file successfully created- ..\\sourcedata\\sub-488\\sub-488_task-procspeed_run-1_beh.csv\n",
      "..\\sourcedata\\sub-489\\sub-489_task-procspeed_run-1_beh.csv exists\n",
      "Output file successfully created- ..\\sourcedata\\sub-489\\sub-489_task-procspeed_run-1_beh.csv\n",
      "..\\sourcedata\\sub-490\\sub-490_task-procspeed_run-1_beh.csv exists\n",
      "Output file successfully created- ..\\sourcedata\\sub-490\\sub-490_task-procspeed_run-1_beh.csv\n",
      "..\\sourcedata\\sub-491\\sub-491_task-procspeed_run-1_beh.csv exists\n",
      "Output file successfully created- ..\\sourcedata\\sub-491\\sub-491_task-procspeed_run-1_beh.csv\n",
      "..\\sourcedata\\sub-492\\sub-492_task-procspeed_run-1_beh.csv exists\n",
      "Output file successfully created- ..\\sourcedata\\sub-492\\sub-492_task-procspeed_run-1_beh.csv\n",
      "..\\sourcedata\\sub-493\\sub-493_task-procspeed_run-1_beh.csv exists\n",
      "Warning: LogFrame Starts and Ends do not match up. Including header metadata just in case.\n",
      "Output file successfully created- ..\\sourcedata\\sub-493\\sub-493_task-procspeed_run-1_beh.csv\n",
      "..\\sourcedata\\sub-494\\sub-494_task-procspeed_run-1_beh.csv exists\n",
      "Output file successfully created- ..\\sourcedata\\sub-494\\sub-494_task-procspeed_run-1_beh.csv\n",
      "..\\sourcedata\\sub-495\\sub-495_task-procspeed_run-1_beh.csv exists\n",
      "Output file successfully created- ..\\sourcedata\\sub-495\\sub-495_task-procspeed_run-1_beh.csv\n",
      "..\\sourcedata\\sub-496\\sub-496_task-procspeed_run-1_beh.csv exists\n",
      "Output file successfully created- ..\\sourcedata\\sub-496\\sub-496_task-procspeed_run-1_beh.csv\n",
      "..\\sourcedata\\sub-497\\sub-497_task-procspeed_run-1_beh.csv exists\n",
      "Output file successfully created- ..\\sourcedata\\sub-497\\sub-497_task-procspeed_run-1_beh.csv\n",
      "..\\sourcedata\\sub-498\\sub-498_task-procspeed_run-1_beh.csv exists\n",
      "Output file successfully created- ..\\sourcedata\\sub-498\\sub-498_task-procspeed_run-1_beh.csv\n",
      "..\\sourcedata\\sub-499\\sub-499_task-procspeed_run-1_beh.csv exists\n",
      "Output file successfully created- ..\\sourcedata\\sub-499\\sub-499_task-procspeed_run-1_beh.csv\n",
      "..\\sourcedata\\sub-500\\sub-500_task-procspeed_run-1_beh.csv exists\n",
      "Output file successfully created- ..\\sourcedata\\sub-500\\sub-500_task-procspeed_run-1_beh.csv\n",
      "..\\sourcedata\\sub-501\\sub-501_task-procspeed_run-1_beh.csv exists\n"
     ]
    },
    {
     "name": "stdout",
     "output_type": "stream",
     "text": [
      "Output file successfully created- ..\\sourcedata\\sub-501\\sub-501_task-procspeed_run-1_beh.csv\n"
     ]
    }
   ],
   "source": [
    "for s in os.listdir(source_dir):\n",
    "    if s.startswith('sub-4') or s.startswith('sub-5'):\n",
    "        sub_dir = os.path.join(source_dir,s)\n",
    "        for f in os.listdir(sub_dir):\n",
    "            if f.endswith('.txt') and f.split('_')[-3] == 'task-procspeed':\n",
    "                #print(f)\n",
    "                o = f.split('.')[0]+'.csv'\n",
    "                fpath = os.path.join(sub_dir,f)\n",
    "                opath = os.path.join(sub_dir,o)\n",
    "                if os.path.isfile(opath):\n",
    "                    print(opath,'exists')\n",
    "                else:\n",
    "                    o = os.path.basename(fpath).split('.')[0]+'.csv' \n",
    "                    opath = os.path.join(sub_dir,o)\n",
    "                    print(fpath,'=>',opath)\n",
    "                ep.text_to_csv(fpath,opath)"
   ]
  },
  {
   "cell_type": "markdown",
   "metadata": {},
   "source": [
    "# Combine subjects and output trial-level"
   ]
  },
  {
   "cell_type": "markdown",
   "metadata": {},
   "source": [
    "## Read in and concatenate subject datasheets"
   ]
  },
  {
   "cell_type": "code",
   "execution_count": 4,
   "metadata": {},
   "outputs": [],
   "source": [
    "cleaned_dataframes_list = []\n",
    "\n",
    "for s in os.listdir(source_dir):\n",
    "    if s.startswith('sub-4') or s.startswith('sub-5'):\n",
    "        sub_dir = os.path.join(source_dir,s)\n",
    "        for f in os.listdir(sub_dir):\n",
    "            if f.endswith('.csv') and f.split('_')[-3] == 'task-procspeed':\n",
    "                fpath = os.path.join(sub_dir,f)\n",
    "                df = pd.read_csv(fpath)\n",
    "                cleaned_dataframes_list.append(df)"
   ]
  },
  {
   "cell_type": "markdown",
   "metadata": {},
   "source": [
    "### ProcSpd data\n",
    "Cleanup: Rehomogenize subject column, concatenate all frames, drop unneeded columns and rows"
   ]
  },
  {
   "cell_type": "code",
   "execution_count": 5,
   "metadata": {},
   "outputs": [],
   "source": [
    "procspd_trials = pd.concat(cleaned_dataframes_list,sort=False)"
   ]
  },
  {
   "cell_type": "code",
   "execution_count": 6,
   "metadata": {},
   "outputs": [],
   "source": [
    "procspd_trials = procspd_trials[procspd_trials['Procedure']=='TrialProc']\n",
    "procspd_trials = procspd_trials[[\n",
    "    'Subject','TargetStimulus.RT','TargetStimulus.OnsetToOnsetTime','Buffer.RT'\n",
    "]]"
   ]
  },
  {
   "cell_type": "markdown",
   "metadata": {},
   "source": [
    "###### Combine response windows for final RT"
   ]
  },
  {
   "cell_type": "code",
   "execution_count": 7,
   "metadata": {},
   "outputs": [],
   "source": [
    "def calculate_rt(row):\n",
    "    initial = row['TargetStimulus.RT']\n",
    "    buffert = row['Buffer.RT']\n",
    "    initial_duration = row['TargetStimulus.OnsetToOnsetTime']\n",
    "    if initial == 0 and buffert > 0:\n",
    "        rt = buffert + initial_duration\n",
    "    elif initial > 0: rt = initial\n",
    "    else: rt = np.nan\n",
    "    return(rt)\n",
    "\n",
    "procspd_trials['RT'] = procspd_trials.apply(calculate_rt,axis=1)"
   ]
  },
  {
   "cell_type": "markdown",
   "metadata": {},
   "source": [
    "#### *Output ProcSpd trial-level data*"
   ]
  },
  {
   "cell_type": "code",
   "execution_count": 14,
   "metadata": {},
   "outputs": [],
   "source": [
    "fpath = os.path.join('..','derivatives', 'trialwise','procspd_trial_level_8.23.2019.csv')\n",
    "procspd_trials.to_csv(fpath,index=False)"
   ]
  },
  {
   "cell_type": "markdown",
   "metadata": {},
   "source": [
    "#### *Group and output ProcSpd subject-level data*"
   ]
  },
  {
   "cell_type": "code",
   "execution_count": 9,
   "metadata": {},
   "outputs": [
    {
     "data": {
      "text/html": [
       "<div>\n",
       "<style scoped>\n",
       "    .dataframe tbody tr th:only-of-type {\n",
       "        vertical-align: middle;\n",
       "    }\n",
       "\n",
       "    .dataframe tbody tr th {\n",
       "        vertical-align: top;\n",
       "    }\n",
       "\n",
       "    .dataframe thead th {\n",
       "        text-align: right;\n",
       "    }\n",
       "</style>\n",
       "<table border=\"1\" class=\"dataframe\">\n",
       "  <thead>\n",
       "    <tr style=\"text-align: right;\">\n",
       "      <th></th>\n",
       "      <th>RT</th>\n",
       "    </tr>\n",
       "    <tr>\n",
       "      <th>Subject</th>\n",
       "      <th></th>\n",
       "    </tr>\n",
       "  </thead>\n",
       "  <tbody>\n",
       "    <tr>\n",
       "      <th>401</th>\n",
       "      <td>344.400000</td>\n",
       "    </tr>\n",
       "    <tr>\n",
       "      <th>402</th>\n",
       "      <td>319.000000</td>\n",
       "    </tr>\n",
       "    <tr>\n",
       "      <th>403</th>\n",
       "      <td>345.450000</td>\n",
       "    </tr>\n",
       "    <tr>\n",
       "      <th>404</th>\n",
       "      <td>511.450000</td>\n",
       "    </tr>\n",
       "    <tr>\n",
       "      <th>405</th>\n",
       "      <td>288.833333</td>\n",
       "    </tr>\n",
       "  </tbody>\n",
       "</table>\n",
       "</div>"
      ],
      "text/plain": [
       "                 RT\n",
       "Subject            \n",
       "401      344.400000\n",
       "402      319.000000\n",
       "403      345.450000\n",
       "404      511.450000\n",
       "405      288.833333"
      ]
     },
     "execution_count": 9,
     "metadata": {},
     "output_type": "execute_result"
    }
   ],
   "source": [
    "grouped = procspd_trials.groupby('Subject')\n",
    "procspd_subs = grouped.mean()[['RT']]\n",
    "procspd_subs.head()"
   ]
  },
  {
   "cell_type": "code",
   "execution_count": 15,
   "metadata": {},
   "outputs": [],
   "source": [
    "fpath = os.path.join('..','derivatives', 'subjectwise','procspd_subject_level_8.23.2019.csv')\n",
    "procspd_subs.to_csv(fpath)"
   ]
  }
 ],
 "metadata": {
  "kernelspec": {
   "display_name": "Python 3",
   "language": "python",
   "name": "python3"
  },
  "language_info": {
   "codemirror_mode": {
    "name": "ipython",
    "version": 3
   },
   "file_extension": ".py",
   "mimetype": "text/x-python",
   "name": "python",
   "nbconvert_exporter": "python",
   "pygments_lexer": "ipython3",
   "version": "3.7.1"
  }
 },
 "nbformat": 4,
 "nbformat_minor": 2
}
