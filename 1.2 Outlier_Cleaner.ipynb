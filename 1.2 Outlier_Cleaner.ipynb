{
 "cells": [
  {
   "cell_type": "code",
   "execution_count": 1,
   "metadata": {},
   "outputs": [],
   "source": [
    "# RAs should qualitative review the data and see what people are doing before we quantitatively remove outliers.\n",
    "\n",
    "# input data should be main task data, n-back, procspeed, and other behavioral variables\n",
    "\n",
    "# this notebook should be used to modify main_trial_level, before it's passed onto Subject_level_variable.ipynb\n",
    "\n",
    "# We want to get rid of:\n",
    "# 1. outliers that are out of range (e.g. probability is 900 instead of 90)\n",
    "# 2. outliers that are 3 SD away in the trial level\n",
    "# 3. outliers that are 3 SD away in the subject level (this will be done in 1.3 subject level data, not here)\n",
    "# 4. Reaction time under 300 msec is invalid and  not councious.\n",
    "# make sure that the raw data columns are kept unchanged.\n",
    "# cleaned data are in new columns. add a column for each cleaning criteria\n",
    "# a cell should be null if it contains an outlier."
   ]
  },
  {
   "cell_type": "code",
   "execution_count": 2,
   "metadata": {},
   "outputs": [],
   "source": [
    "import os\n",
    "from os import path\n",
    "from pathlib import Path\n",
    "import numpy as np\n",
    "import pandas as pd"
   ]
  },
  {
   "cell_type": "code",
   "execution_count": 3,
   "metadata": {},
   "outputs": [],
   "source": [
    "def exclude_3sd(row):\n",
    "    \"\"\"\n",
    "    Intended for use with DataFrame.apply()\n",
    "    \n",
    "    'subj_means' and 'subj_3sd' are not function args, therefore undefined locally. \n",
    "    They need to be defined globally, which we will do below.\n",
    "    \"\"\"\n",
    "    SubjNum,val = row['SubjNum'],row['val_estdiff_valid']\n",
    "    mean,SD = subj_means[SubjNum],subj_sd[SubjNum]      #bound is the SD\n",
    "    diff = abs(val - mean)\n",
    "    if diff < 3*SD:\n",
    "        return(val)\n",
    "    else: return(np.nan)\n",
    "    \n",
    "def out_of_range (row):\n",
    "    #main task absolute error has no data that is out of range. So this function is not used here but to serve as an example\n",
    "    SubjNum,val = row['SubjNum'],row['absolute_error']\n",
    "    if 0 <= val <= 1:\n",
    "        return(val)\n",
    "    else: return(np.nan)    \n",
    "    \n",
    "def RT_ (row):\n",
    "    SubjNum,val = row['SubjNum'],row['absolute_error']\n",
    "    if 0 <= val <= 1:\n",
    "        return(val)\n",
    "    else: return(np.nan)    "
   ]
  },
  {
   "cell_type": "code",
   "execution_count": 4,
   "metadata": {},
   "outputs": [
    {
     "data": {
      "text/html": [
       "<div>\n",
       "<style scoped>\n",
       "    .dataframe tbody tr th:only-of-type {\n",
       "        vertical-align: middle;\n",
       "    }\n",
       "\n",
       "    .dataframe tbody tr th {\n",
       "        vertical-align: top;\n",
       "    }\n",
       "\n",
       "    .dataframe thead th {\n",
       "        text-align: right;\n",
       "    }\n",
       "</style>\n",
       "<table border=\"1\" class=\"dataframe\">\n",
       "  <thead>\n",
       "    <tr style=\"text-align: right;\">\n",
       "      <th></th>\n",
       "      <th>experimentname</th>\n",
       "      <th>SubjNum</th>\n",
       "      <th>session</th>\n",
       "      <th>attribbadlosepercent</th>\n",
       "      <th>attribbadwinpercent</th>\n",
       "      <th>attribgainbondamount</th>\n",
       "      <th>attribgainloseamount</th>\n",
       "      <th>attribgainwinamount</th>\n",
       "      <th>attribgoodlosepercent</th>\n",
       "      <th>attribgoodwinpercent</th>\n",
       "      <th>...</th>\n",
       "      <th>firstassetchoseninblock</th>\n",
       "      <th>incorrchoicematchingfrstinblck</th>\n",
       "      <th>firstchoicestock</th>\n",
       "      <th>pctfirstchoicestock</th>\n",
       "      <th>education</th>\n",
       "      <th>household_income</th>\n",
       "      <th>hhinc_bin</th>\n",
       "      <th>college</th>\n",
       "      <th>lowinc</th>\n",
       "      <th>age_decade</th>\n",
       "    </tr>\n",
       "  </thead>\n",
       "  <tbody>\n",
       "    <tr>\n",
       "      <th>0</th>\n",
       "      <td>Task Active Involvement ed. 4.9</td>\n",
       "      <td>1002</td>\n",
       "      <td>1</td>\n",
       "      <td>0.7</td>\n",
       "      <td>0.3</td>\n",
       "      <td>6</td>\n",
       "      <td>2</td>\n",
       "      <td>10</td>\n",
       "      <td>0.3</td>\n",
       "      <td>0.7</td>\n",
       "      <td>...</td>\n",
       "      <td>1.0</td>\n",
       "      <td>0</td>\n",
       "      <td>1.0</td>\n",
       "      <td>0.7</td>\n",
       "      <td>14</td>\n",
       "      <td>$10,000-$19,999</td>\n",
       "      <td>2</td>\n",
       "      <td>0</td>\n",
       "      <td>1</td>\n",
       "      <td>4</td>\n",
       "    </tr>\n",
       "    <tr>\n",
       "      <th>1</th>\n",
       "      <td>Task Active Involvement ed. 4.9</td>\n",
       "      <td>1002</td>\n",
       "      <td>1</td>\n",
       "      <td>0.7</td>\n",
       "      <td>0.3</td>\n",
       "      <td>6</td>\n",
       "      <td>2</td>\n",
       "      <td>10</td>\n",
       "      <td>0.3</td>\n",
       "      <td>0.7</td>\n",
       "      <td>...</td>\n",
       "      <td>1.0</td>\n",
       "      <td>1</td>\n",
       "      <td>NaN</td>\n",
       "      <td>0.7</td>\n",
       "      <td>14</td>\n",
       "      <td>$10,000-$19,999</td>\n",
       "      <td>2</td>\n",
       "      <td>0</td>\n",
       "      <td>1</td>\n",
       "      <td>4</td>\n",
       "    </tr>\n",
       "    <tr>\n",
       "      <th>2</th>\n",
       "      <td>Task Active Involvement ed. 4.9</td>\n",
       "      <td>1002</td>\n",
       "      <td>1</td>\n",
       "      <td>0.7</td>\n",
       "      <td>0.3</td>\n",
       "      <td>6</td>\n",
       "      <td>2</td>\n",
       "      <td>10</td>\n",
       "      <td>0.3</td>\n",
       "      <td>0.7</td>\n",
       "      <td>...</td>\n",
       "      <td>1.0</td>\n",
       "      <td>0</td>\n",
       "      <td>NaN</td>\n",
       "      <td>0.7</td>\n",
       "      <td>14</td>\n",
       "      <td>$10,000-$19,999</td>\n",
       "      <td>2</td>\n",
       "      <td>0</td>\n",
       "      <td>1</td>\n",
       "      <td>4</td>\n",
       "    </tr>\n",
       "    <tr>\n",
       "      <th>3</th>\n",
       "      <td>Task Active Involvement ed. 4.9</td>\n",
       "      <td>1002</td>\n",
       "      <td>1</td>\n",
       "      <td>0.7</td>\n",
       "      <td>0.3</td>\n",
       "      <td>6</td>\n",
       "      <td>2</td>\n",
       "      <td>10</td>\n",
       "      <td>0.3</td>\n",
       "      <td>0.7</td>\n",
       "      <td>...</td>\n",
       "      <td>1.0</td>\n",
       "      <td>0</td>\n",
       "      <td>NaN</td>\n",
       "      <td>0.7</td>\n",
       "      <td>14</td>\n",
       "      <td>$10,000-$19,999</td>\n",
       "      <td>2</td>\n",
       "      <td>0</td>\n",
       "      <td>1</td>\n",
       "      <td>4</td>\n",
       "    </tr>\n",
       "    <tr>\n",
       "      <th>4</th>\n",
       "      <td>Task Active Involvement ed. 4.9</td>\n",
       "      <td>1002</td>\n",
       "      <td>1</td>\n",
       "      <td>0.7</td>\n",
       "      <td>0.3</td>\n",
       "      <td>6</td>\n",
       "      <td>2</td>\n",
       "      <td>10</td>\n",
       "      <td>0.3</td>\n",
       "      <td>0.7</td>\n",
       "      <td>...</td>\n",
       "      <td>1.0</td>\n",
       "      <td>0</td>\n",
       "      <td>NaN</td>\n",
       "      <td>0.7</td>\n",
       "      <td>14</td>\n",
       "      <td>$10,000-$19,999</td>\n",
       "      <td>2</td>\n",
       "      <td>0</td>\n",
       "      <td>1</td>\n",
       "      <td>4</td>\n",
       "    </tr>\n",
       "  </tbody>\n",
       "</table>\n",
       "<p>5 rows × 102 columns</p>\n",
       "</div>"
      ],
      "text/plain": [
       "                    experimentname  SubjNum  session  attribbadlosepercent  \\\n",
       "0  Task Active Involvement ed. 4.9     1002        1                   0.7   \n",
       "1  Task Active Involvement ed. 4.9     1002        1                   0.7   \n",
       "2  Task Active Involvement ed. 4.9     1002        1                   0.7   \n",
       "3  Task Active Involvement ed. 4.9     1002        1                   0.7   \n",
       "4  Task Active Involvement ed. 4.9     1002        1                   0.7   \n",
       "\n",
       "   attribbadwinpercent  attribgainbondamount  attribgainloseamount  \\\n",
       "0                  0.3                     6                     2   \n",
       "1                  0.3                     6                     2   \n",
       "2                  0.3                     6                     2   \n",
       "3                  0.3                     6                     2   \n",
       "4                  0.3                     6                     2   \n",
       "\n",
       "   attribgainwinamount  attribgoodlosepercent  attribgoodwinpercent  \\\n",
       "0                   10                    0.3                   0.7   \n",
       "1                   10                    0.3                   0.7   \n",
       "2                   10                    0.3                   0.7   \n",
       "3                   10                    0.3                   0.7   \n",
       "4                   10                    0.3                   0.7   \n",
       "\n",
       "      ...      firstassetchoseninblock  incorrchoicematchingfrstinblck  \\\n",
       "0     ...                          1.0                               0   \n",
       "1     ...                          1.0                               1   \n",
       "2     ...                          1.0                               0   \n",
       "3     ...                          1.0                               0   \n",
       "4     ...                          1.0                               0   \n",
       "\n",
       "   firstchoicestock pctfirstchoicestock education household_income hhinc_bin  \\\n",
       "0               1.0                 0.7        14  $10,000-$19,999         2   \n",
       "1               NaN                 0.7        14  $10,000-$19,999         2   \n",
       "2               NaN                 0.7        14  $10,000-$19,999         2   \n",
       "3               NaN                 0.7        14  $10,000-$19,999         2   \n",
       "4               NaN                 0.7        14  $10,000-$19,999         2   \n",
       "\n",
       "   college  lowinc  age_decade  \n",
       "0        0       1           4  \n",
       "1        0       1           4  \n",
       "2        0       1           4  \n",
       "3        0       1           4  \n",
       "4        0       1           4  \n",
       "\n",
       "[5 rows x 102 columns]"
      ]
     },
     "execution_count": 4,
     "metadata": {},
     "output_type": "execute_result"
    }
   ],
   "source": [
    "location = path.join('task_active_all_subjects.csv')\n",
    "df=pd.read_csv(location) #opening the excel file - trial level data\n",
    "df.head()"
   ]
  },
  {
   "cell_type": "code",
   "execution_count": 5,
   "metadata": {},
   "outputs": [
    {
     "data": {
      "text/plain": [
       "23.91146146532946"
      ]
     },
     "execution_count": 5,
     "metadata": {},
     "output_type": "execute_result"
    }
   ],
   "source": [
    "df['absolute_error'].std()"
   ]
  },
  {
   "cell_type": "code",
   "execution_count": 6,
   "metadata": {},
   "outputs": [
    {
     "data": {
      "text/plain": [
       "28.614886047241292"
      ]
     },
     "execution_count": 6,
     "metadata": {},
     "output_type": "execute_result"
    }
   ],
   "source": [
    "df['absolute_error'].mean()"
   ]
  },
  {
   "cell_type": "code",
   "execution_count": 7,
   "metadata": {
    "scrolled": true
   },
   "outputs": [
    {
     "data": {
      "text/plain": [
       "SubjNum\n",
       "1002   -42.796611\n",
       "1004   -35.789474\n",
       "1007   -27.433334\n",
       "1008    -4.900000\n",
       "1009     2.033333\n",
       "Name: val_estdiff_valid, dtype: float64"
      ]
     },
     "execution_count": 7,
     "metadata": {},
     "output_type": "execute_result"
    }
   ],
   "source": [
    "subj_means = df.groupby('SubjNum').mean()['val_estdiff_valid']\n",
    "subj_means.head()"
   ]
  },
  {
   "cell_type": "code",
   "execution_count": 8,
   "metadata": {},
   "outputs": [],
   "source": [
    "subj_sd = df.groupby('SubjNum').std()['val_estdiff_valid']"
   ]
  },
  {
   "cell_type": "code",
   "execution_count": 9,
   "metadata": {},
   "outputs": [],
   "source": [
    "#out of range\n",
    "#axis=1 means that you want the data to be processed row by row. axies=1 means column by column\n",
    "#3 SD away in the trial level\n",
    "df['val_error_3sd_removed'] = df.apply(exclude_3sd, axis=1)\n",
    "df['abs_error_3sd_removed'] = df['val_error_3sd_removed'].abs()"
   ]
  },
  {
   "cell_type": "code",
   "execution_count": 10,
   "metadata": {},
   "outputs": [],
   "source": [
    "df.to_csv(\"main_trial_level_cleaned_7.8.2019.csv\")"
   ]
  }
 ],
 "metadata": {
  "kernelspec": {
   "display_name": "Python 3",
   "language": "python",
   "name": "python3"
  },
  "language_info": {
   "codemirror_mode": {
    "name": "ipython",
    "version": 3
   },
   "file_extension": ".py",
   "mimetype": "text/x-python",
   "name": "python",
   "nbconvert_exporter": "python",
   "pygments_lexer": "ipython3",
   "version": "3.7.1"
  }
 },
 "nbformat": 4,
 "nbformat_minor": 2
}
